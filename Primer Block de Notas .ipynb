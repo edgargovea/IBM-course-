{
    "cells": [
        {
            "cell_type": "code",
            "execution_count": 2,
            "metadata": {},
            "outputs": [
                {
                    "name": "stdout",
                    "output_type": "stream",
                    "text": "[1] \"IBM course Watson Studio\"\n"
                }
            ],
            "source": "print(\"IBM course Watson Studio\")"
        }
    ],
    "metadata": {
        "kernelspec": {
            "display_name": "R 3.6 with Spark",
            "language": "R",
            "name": "r"
        },
        "language_info": {
            "codemirror_mode": "r",
            "file_extension": ".r",
            "mimetype": "text/x-r-source",
            "name": "R",
            "pygments_lexer": "r",
            "version": "3.6.3"
        }
    },
    "nbformat": 4,
    "nbformat_minor": 1
}